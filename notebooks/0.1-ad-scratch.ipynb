{
 "cells": [
  {
   "cell_type": "code",
   "execution_count": null,
   "metadata": {
    "ExecuteTime": {
     "end_time": "2025-03-30T15:11:11.458476Z",
     "start_time": "2025-03-30T15:11:11.410725Z"
    }
   },
   "outputs": [],
   "source": [
    "%load_ext autoreload\n",
    "%autoreload 2\n",
    "\n",
    "from pathlib import Path\n",
    "import os\n",
    "\n",
    "from dotenv import find_dotenv, load_dotenv\n",
    "from podology.data.Episode import Episode\n",
    "from podology.data.EpisodeStore import EpisodeStore\n",
    "from podology.data.Transcript import Transcript\n",
    "import config\n",
    "\n",
    "# set cwd one level up:\n",
    "os.chdir(Path.cwd().parent)\n",
    "load_dotenv(find_dotenv())\n",
    "\n",
    "print(os.getcwd())"
   ]
  },
  {
   "cell_type": "code",
   "execution_count": null,
   "metadata": {
    "ExecuteTime": {
     "end_time": "2025-03-30T15:11:24.082360Z",
     "start_time": "2025-03-30T15:11:24.055083Z"
    }
   },
   "outputs": [],
   "source": [
    "episode_store = EpisodeStore()\n",
    "\n",
    "for pub_ep in config.get_connector().fetch_episodes():\n",
    "    episode_store.add_or_update(pub_ep)\n",
    "\n",
    "episode_store.update_from_files()"
   ]
  },
  {
   "cell_type": "code",
   "execution_count": null,
   "metadata": {},
   "outputs": [],
   "source": [
    "ep = episode_store[\"2iPRY\"]"
   ]
  },
  {
   "cell_type": "code",
   "execution_count": null,
   "metadata": {},
   "outputs": [],
   "source": [
    "ep.__dataclass_fields__.keys()"
   ]
  },
  {
   "cell_type": "code",
   "execution_count": null,
   "metadata": {},
   "outputs": [],
   "source": [
    "t =Transcript(ep)"
   ]
  },
  {
   "cell_type": "code",
   "execution_count": null,
   "metadata": {},
   "outputs": [],
   "source": [
    "t.episode_attrs"
   ]
  },
  {
   "cell_type": "code",
   "execution_count": null,
   "metadata": {},
   "outputs": [],
   "source": [
    "t.segment_attrs"
   ]
  },
  {
   "cell_type": "code",
   "execution_count": null,
   "metadata": {},
   "outputs": [],
   "source": [
    "t.segments(\n",
    "    episode_attrs=[\"eid\", \"title\"],\n",
    "    segment_attrs=[\"start\", \"text\", \"speaker\"],\n",
    "    diarized=True\n",
    ")"
   ]
  }
 ],
 "metadata": {
  "kernelspec": {
   "display_name": "podology-py3.12",
   "language": "python",
   "name": "python3"
  },
  "language_info": {
   "codemirror_mode": {
    "name": "ipython",
    "version": 3
   },
   "file_extension": ".py",
   "mimetype": "text/x-python",
   "name": "python",
   "nbconvert_exporter": "python",
   "pygments_lexer": "ipython3",
   "version": "3.12.3"
  }
 },
 "nbformat": 4,
 "nbformat_minor": 2
}
