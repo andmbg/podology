{
 "cells": [
  {
   "cell_type": "code",
   "execution_count": 1,
   "metadata": {
    "ExecuteTime": {
     "end_time": "2025-03-30T15:11:11.458476Z",
     "start_time": "2025-03-30T15:11:11.410725Z"
    }
   },
   "outputs": [],
   "source": [
    "%load_ext autoreload\n",
    "%autoreload 2\n",
    "\n",
    "from pathlib import Path\n",
    "import os\n",
    "\n",
    "import numpy as np\n",
    "from dotenv import find_dotenv, load_dotenv\n",
    "from sentence_transformers import SentenceTransformer\n",
    "\n",
    "from podology.data.Episode import Episode\n",
    "from podology.data.EpisodeStore import EpisodeStore\n",
    "from podology.data.Transcript import Transcript\n",
    "from podology.search.utils import make_index_name\n",
    "import config\n",
    "\n",
    "# set cwd one level up:\n",
    "load_dotenv(find_dotenv())\n",
    "os.chdir(Path.cwd().parent)"
   ]
  },
  {
   "cell_type": "code",
   "execution_count": 2,
   "metadata": {
    "ExecuteTime": {
     "end_time": "2025-03-30T15:11:24.082360Z",
     "start_time": "2025-03-30T15:11:24.055083Z"
    }
   },
   "outputs": [],
   "source": [
    "episode_store = EpisodeStore()"
   ]
  },
  {
   "cell_type": "code",
   "execution_count": 3,
   "metadata": {},
   "outputs": [
    {
     "data": {
      "text/plain": [
       "Episode (id 'Ug6QC')\n",
       "  Title: TEST1\n",
       "  Audio: ✅️\n",
       "  TrScr: ✅️\n",
       "  URL:   https://traffic.libsyn.com/secure/knowledgefight/test1.mp3?dest-id=461805\n",
       "  Publ:  2025-09-07"
      ]
     },
     "execution_count": 3,
     "metadata": {},
     "output_type": "execute_result"
    }
   ],
   "source": [
    "ep = episode_store[\"Ug6QC\"]\n",
    "ep"
   ]
  },
  {
   "cell_type": "code",
   "execution_count": 27,
   "metadata": {},
   "outputs": [],
   "source": [
    "t =Transcript(ep)"
   ]
  },
  {
   "cell_type": "code",
   "execution_count": 26,
   "metadata": {},
   "outputs": [
    {
     "data": {
      "text/plain": [
       "[{'text': \"Maybe, you know what, maybe Alex is too. Maybe this is an unexplored thing that we haven't talked about. He's definitely not. He hates songs. No, definitely not. Yeah. I think it's fine if you don't know all the words. Maybe Alex's brand does not allow it.\",\n",
       "  'start': 0.031,\n",
       "  'end': 13.73},\n",
       " {'text': \"Maybe this is an unexplored thing that we haven't talked about. He's definitely not. He hates songs. No, definitely not. Yeah. I think it's fine if you don't know all the words. Maybe Alex's brand does not allow it. He's too busy talking over the song.\",\n",
       "  'start': 2.514,\n",
       "  'end': 16.834},\n",
       " {'text': \"He's definitely not. He hates songs. No, definitely not. Yeah. I think it's fine if you don't know all the words. Maybe Alex's brand does not allow it. He's too busy talking over the song. So if you're talking over the song, you just think every word is hood.\",\n",
       "  'start': 4.918,\n",
       "  'end': 20.44},\n",
       " {'text': \"Maybe Alex's brand does not allow it. He's too busy talking over the song. So if you're talking over the song, you just think every word is hood. I get it if you're like, you know, some other song, like a rock song.\",\n",
       "  'start': 11.046,\n",
       "  'end': 24.605},\n",
       " {'text': \"He's too busy talking over the song. So if you're talking over the song, you just think every word is hood. I get it if you're like, you know, some other song, like a rock song. Maybe if you have the wrong word, that's happened to be a thousand times.\",\n",
       "  'start': 13.79,\n",
       "  'end': 27.61},\n",
       " {'text': \"So if you're talking over the song, you just think every word is hood. I get it if you're like, you know, some other song, like a rock song. Maybe if you have the wrong word, that's happened to be a thousand times. Tons of times. Yeah.\",\n",
       "  'start': 16.855,\n",
       "  'end': 28.671},\n",
       " {'text': \"I get it if you're like, you know, some other song, like a rock song. Maybe if you have the wrong word, that's happened to be a thousand times. Tons of times. Yeah. I'm on a monument like this that Kelly Clarkson song. That was bad. Yeah, yeah.\",\n",
       "  'start': 20.66,\n",
       "  'end': 34.493}]"
      ]
     },
     "execution_count": 26,
     "metadata": {},
     "output_type": "execute_result"
    }
   ],
   "source": [
    "t._chunked(min_words=20, max_words=50, overlap=.9)"
   ]
  },
  {
   "cell_type": "code",
   "execution_count": 34,
   "metadata": {},
   "outputs": [
    {
     "data": {
      "text/plain": [
       "[{'eid': 'Ug6QC',\n",
       "  'start': 0.031,\n",
       "  'end': 13.73,\n",
       "  'text': \"Maybe, you know what, maybe Alex is too. Maybe this is an unexplored thing that we haven't talked about. He's definitely not. He hates songs. No, definitely not. Yeah. I think it's fine if you don't know all the words. Maybe Alex's brand does not allow it.\"},\n",
       " {'eid': 'Ug6QC',\n",
       "  'start': 9.004,\n",
       "  'end': 20.44,\n",
       "  'text': \"I think it's fine if you don't know all the words. Maybe Alex's brand does not allow it. He's too busy talking over the song. So if you're talking over the song, you just think every word is hood.\"},\n",
       " {'eid': 'Ug6QC',\n",
       "  'start': 16.855,\n",
       "  'end': 28.671,\n",
       "  'text': \"So if you're talking over the song, you just think every word is hood. I get it if you're like, you know, some other song, like a rock song. Maybe if you have the wrong word, that's happened to be a thousand times. Tons of times. Yeah.\"},\n",
       " {'eid': 'Ug6QC',\n",
       "  'start': 24.826,\n",
       "  'end': 34.493,\n",
       "  'text': \"Maybe if you have the wrong word, that's happened to be a thousand times. Tons of times. Yeah. I'm on a monument like this that Kelly Clarkson song. That was bad. Yeah, yeah.\"}]"
      ]
     },
     "execution_count": 34,
     "metadata": {},
     "output_type": "execute_result"
    }
   ],
   "source": [
    "t.chunks(chunk_attrs=[\"start\", \"end\"], overlap=.2, min_words=20, max_words=50, episode_attrs=[\"eid\"])"
   ]
  }
 ],
 "metadata": {
  "kernelspec": {
   "display_name": "podology-py3.12",
   "language": "python",
   "name": "python3"
  },
  "language_info": {
   "codemirror_mode": {
    "name": "ipython",
    "version": 3
   },
   "file_extension": ".py",
   "mimetype": "text/x-python",
   "name": "python",
   "nbconvert_exporter": "python",
   "pygments_lexer": "ipython3",
   "version": "3.12.3"
  }
 },
 "nbformat": 4,
 "nbformat_minor": 2
}
