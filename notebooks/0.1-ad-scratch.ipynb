{
 "cells": [
  {
   "cell_type": "code",
   "execution_count": null,
   "metadata": {
    "ExecuteTime": {
     "end_time": "2025-03-29T13:37:19.111752Z",
     "start_time": "2025-03-29T13:37:18.993070Z"
    }
   },
   "outputs": [],
   "source": [
    "from pathlib import Path\n",
    "import os\n",
    "\n",
    "from elasticsearch import Elasticsearch\n",
    "from dotenv import find_dotenv, load_dotenv\n",
    "from kfsearch.search.setup_es import create_meta_index\n",
    "\n",
    "# set cwd one level up:\n",
    "os.chdir(Path.cwd().parent)\n",
    "load_dotenv(find_dotenv())\n",
    "\n",
    "# es = Elasticsearch(\n",
    "#     \"http://localhost:9200\",\n",
    "#     basic_auth=(os.getenv(\"ELASTIC_USER\"), os.getenv(\"ELASTIC_PASSWORD\")),\n",
    "#     # verify_certs=True,\n",
    "#     # ca_certs=basedir / \"http_ca.crt\"\n",
    "# )"
   ]
  },
  {
   "cell_type": "code",
   "execution_count": null,
   "metadata": {},
   "outputs": [],
   "source": [
    "es.indices.delete(index=\"knowledge_fight_meta\")\n",
    "create_meta_index(es)"
   ]
  },
  {
   "cell_type": "code",
   "execution_count": null,
   "metadata": {},
   "outputs": [],
   "source": [
    "index_name = \"knowledge_fight_meta\"\n",
    "search_term = \"this\"\n",
    "\n",
    "es.search(\n",
    "            index=index_name,\n",
    "            body={\n",
    "                \"query\": {\n",
    "                    \"multi_match\": {\n",
    "                        \"query\": search_term,\n",
    "                        \"fields\": [\"episode_title\", \"description\"]\n",
    "                    }\n",
    "                },\n",
    "                \"size\": 10000,\n",
    "            },\n",
    "        )"
   ]
  }
 ],
 "metadata": {
  "kernelspec": {
   "display_name": ".venv",
   "language": "python",
   "name": "python3"
  },
  "language_info": {
   "codemirror_mode": {
    "name": "ipython",
    "version": 3
   },
   "file_extension": ".py",
   "mimetype": "text/x-python",
   "name": "python",
   "nbconvert_exporter": "python",
   "pygments_lexer": "ipython3",
   "version": "3.12.5"
  }
 },
 "nbformat": 4,
 "nbformat_minor": 2
}
