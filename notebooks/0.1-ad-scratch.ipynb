{
 "cells": [
  {
   "cell_type": "code",
   "execution_count": null,
   "metadata": {
    "ExecuteTime": {
     "end_time": "2025-03-21T13:10:33.447839Z",
     "start_time": "2025-03-21T13:10:33.174581Z"
    }
   },
   "outputs": [],
   "source": [
    "from pathlib import Path\n",
    "import os\n",
    "\n",
    "# set cwd one level up:\n",
    "os.chdir(Path.cwd().parent)\n",
    "\n",
    "from elasticsearch import Elasticsearch\n",
    "\n",
    "from kfsearch.data.models import EpisodeStore, Episode\n",
    "from kfsearch.search.search_classes import ResultSet, ResultsPage, diarize_transcript\n",
    "from kfsearch.search.setup_es import INDEX_NAME"
   ]
  },
  {
   "cell_type": "code",
   "execution_count": null,
   "metadata": {
    "ExecuteTime": {
     "end_time": "2025-03-21T13:10:33.526888Z",
     "start_time": "2025-03-21T13:10:33.505155Z"
    }
   },
   "outputs": [],
   "source": [
    "episode_store = EpisodeStore(name=\"Knowledge Fight\")\n",
    "\n",
    "es = Elasticsearch(\n",
    "    \"http://localhost:9200\",\n",
    "    basic_auth=(os.getenv(\"ELASTIC_USER\"), os.getenv(\"ELASTIC_PASSWORD\")),\n",
    "    # verify_certs=True,\n",
    "    # ca_certs=basedir / \"http_ca.crt\"\n",
    ")"
   ]
  },
  {
   "cell_type": "code",
   "execution_count": null,
   "metadata": {
    "ExecuteTime": {
     "end_time": "2025-03-21T13:10:33.621494Z",
     "start_time": "2025-03-21T13:10:33.618101Z"
    }
   },
   "outputs": [],
   "source": [
    "episode_store"
   ]
  },
  {
   "cell_type": "code",
   "execution_count": null,
   "metadata": {
    "ExecuteTime": {
     "end_time": "2025-03-21T13:10:33.730249Z",
     "start_time": "2025-03-21T13:10:33.723721Z"
    }
   },
   "outputs": [],
   "source": [
    "term = \"Dan\"\n",
    "\n",
    "result_set = ResultSet(\n",
    "    es_client=es,\n",
    "    episode_store=episode_store,\n",
    "    index_name=INDEX_NAME,\n",
    "    search_term=term,\n",
    "    page_size=10,\n",
    ")"
   ]
  },
  {
   "cell_type": "code",
   "execution_count": null,
   "metadata": {
    "ExecuteTime": {
     "end_time": "2025-03-21T13:10:40.513037Z",
     "start_time": "2025-03-21T13:10:40.508512Z"
    }
   },
   "outputs": [],
   "source": [
    "result_set"
   ]
  },
  {
   "cell_type": "code",
   "execution_count": null,
   "metadata": {
    "ExecuteTime": {
     "end_time": "2025-03-21T13:14:57.303288Z",
     "start_time": "2025-03-21T13:14:57.298843Z"
    }
   },
   "outputs": [],
   "source": [
    "episode_store"
   ]
  }
 ],
 "metadata": {
  "kernelspec": {
   "display_name": ".venv",
   "language": "python",
   "name": "python3"
  },
  "language_info": {
   "codemirror_mode": {
    "name": "ipython",
    "version": 3
   },
   "file_extension": ".py",
   "mimetype": "text/x-python",
   "name": "python",
   "nbconvert_exporter": "python",
   "pygments_lexer": "ipython3",
   "version": "3.12.5"
  }
 },
 "nbformat": 4,
 "nbformat_minor": 2
}
