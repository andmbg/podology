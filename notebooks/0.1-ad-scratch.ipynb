{
 "cells": [
  {
   "cell_type": "code",
   "execution_count": 1,
   "metadata": {
    "ExecuteTime": {
     "end_time": "2025-03-30T15:11:11.458476Z",
     "start_time": "2025-03-30T15:11:11.410725Z"
    }
   },
   "outputs": [
    {
     "name": "stdout",
     "output_type": "stream",
     "text": [
      "/home/andreas/datasci/projects/kfsearch\n"
     ]
    }
   ],
   "source": [
    "%load_ext autoreload\n",
    "%autoreload 2\n",
    "\n",
    "from pathlib import Path\n",
    "import os\n",
    "\n",
    "from dotenv import find_dotenv, load_dotenv\n",
    "from kfsearch.data.Episode import Episode\n",
    "from kfsearch.data.EpisodeStore import EpisodeStore\n",
    "from kfsearch.data.Transcript import Transcript\n",
    "from kfsearch.stats.nlp import timed_named_entity_tokens\n",
    "import config\n",
    "\n",
    "# set cwd one level up:\n",
    "os.chdir(Path.cwd().parent)\n",
    "load_dotenv(find_dotenv())\n",
    "\n",
    "print(os.getcwd())"
   ]
  },
  {
   "cell_type": "code",
   "execution_count": 2,
   "metadata": {
    "ExecuteTime": {
     "end_time": "2025-03-30T15:11:24.082360Z",
     "start_time": "2025-03-30T15:11:24.055083Z"
    }
   },
   "outputs": [],
   "source": [
    "episode_store = EpisodeStore()\n",
    "\n",
    "for pub_ep in config.get_connector().fetch_episodes():\n",
    "    episode_store.add_or_update(pub_ep)\n",
    "\n",
    "episode_store.update_from_files()"
   ]
  },
  {
   "cell_type": "code",
   "execution_count": 3,
   "metadata": {},
   "outputs": [
    {
     "data": {
      "text/plain": [
       "Episode (id 'HQrCU')\n",
       "  Title: Gurometer: Curtis Yarvin\n",
       "  Audio: ✅️\n",
       "  TrScr: ✅️\n",
       "  URL:   https://podcasts.captivate.fm/media/2712b2e7-4a12-4353-91d1-c11808256c75/Curtis-Yarvin-Gurometer-MF.mp3\n",
       "  Publ:  2025-01-02"
      ]
     },
     "execution_count": 3,
     "metadata": {},
     "output_type": "execute_result"
    }
   ],
   "source": [
    "episode_store[\"HQrCU\"]"
   ]
  },
  {
   "cell_type": "code",
   "execution_count": 4,
   "metadata": {},
   "outputs": [],
   "source": [
    "transcript = Transcript(episode_store[\"HQrCU\"])"
   ]
  },
  {
   "cell_type": "code",
   "execution_count": 5,
   "metadata": {},
   "outputs": [
    {
     "data": {
      "text/plain": [
       "[Row(children=[Col(children=[B(['SPEAKER_02:'])], className='text-start text-bf', width=6), Col(children=['00:00:28'], className='text-end text-secondary', width=6)], className='mt-2'),\n",
       " Row([Div(children=[Div([Span(\"Welcome to Decoding the Gurus' Gurometer Edition, where we apply the science, the art of garometry to a figure that we have recently covered in depth on the podcast, done a deep decoding of, but here we're trying to quantify our observations. And we do that by assigning them values of one to five on 11 different criteria. But before we do that, I must introduce that I am Chris Kavanagh. I'm an anthropologist of sorts in Japan. None of that matters. What matters is the man across from me, who is a senior psychologist, highly respected in this field. He's an Australian. He's in America. He's Matthew Browne. There he is. Welcome, Matthew.\")])], className='speaker-02')]),\n",
       " Row(children=[Col(children=[B(['SPEAKER_01:'])], className='text-start text-bf', width=6), Col(children=['00:01:20'], className='text-end text-secondary', width=6)], className='mt-2'),\n",
       " Row([Div(children=[Div([Span(\"I'm in the nation's capital chris washington dc you were invited up you have your jacket you're ready to advise i had they didn't there was some confusion at the security gates to the white house i didn't seem to have my name on the list it was a It was a bit embarrassing. It was my there was some kind of I was like, that's all right. I had a nice day anyway. Wondering about I went to some excellent exhibitions in Smithsonian's and things like that. Yeah, nice town. The people are friendly. I gotta say down south, a bit more laid back, a little bit more relaxed in a waffle house.\")])], className='speaker-01')]),\n",
       " Row(children=[Col(children=[B(['SPEAKER_02:'])], className='text-start text-bf', width=6), Col(children=['00:01:55'], className='text-end text-secondary', width=6)], className='mt-2'),\n",
       " Row([Div(children=[Div([Span(\"I've been to Washington DC. I know. I know how that goes, but, but Matt, we're not here for your cultural observations. This is a, this is a precise ship, right? We, we do science or art or yeah, you can't, you can't waffle about America here. We are here for a very specific purpose. We got to take a guru that we've recently covered and we got to quantify their gurosity according to the ancient art of gourmetry.\")])], className='speaker-02')]),\n",
       " Row(children=[Col(children=[B(['SPEAKER_01:'])], className='text-start text-bf', width=6), Col(children=['00:02:27'], className='text-end text-secondary', width=6)], className='mt-2'),\n",
       " Row([Div(children=[Div([Span(\"Yeah, yeah, yeah, we will. And that man is Curtis Yarvin. You know, Chris, I did some more subsequent looking into Curtis Yarvin after our episode. I mean, ideally, I'd do my research before the episode, I guess. But that's okay. I did a fair bit afterwards. And I'll just say, and I'd learn a fair bit more about his ideas and views on various things. Nothing of what I heard caused me to want to change my relatively searing evaluation of the guy. My God, what a load of nonsense. And while I was watching this crap, Chris, the most perfect metaphor occurred to me. I wish I'd used it on the show, which was that We talked about how he's got this melange of ideas, very Jordan Peterson style. He doesn't really answer questions. He just gives you a story, and then there's an anecdote, and then there's a hypothetical, and none of this is hanging together. It's like somebody has thrown a bunch of jigsaw pieces onto the table. None of them are fitting together. That was my initial metaphor. The best metaphor is if on closer inspection, you realize that those puzzle pieces are actually the kinds of prizes you get in breakfast cereal boxes or the gacha that are sitting behind you. That would make it even a better metaphor. None of it hangs together. It's not logically coherent. And then when you actually look at the little facts and things that are presented, you realize that they're laughable. Anyway, let's move on.\")])], className='speaker-01')]),\n",
       " Row(children=[Col(children=[B(['SPEAKER_02:'])], className='text-start text-bf', width=6), Col(children=['00:03:59'], className='text-end text-secondary', width=6)], className='mt-2'),\n",
       " Row([Div(children=[Div([Span(\"Yeah, yeah. Well, I think that's right. I was wondering where you were going to go with that analogy. Like, when you look closer, they're little pieces of crap.\")])], className='speaker-02')]),\n",
       " Row(children=[Col(children=[B(['SPEAKER_01:'])], className='text-start text-bf', width=6), Col(children=['00:04:10'], className='text-end text-secondary', width=6)], className='mt-2'),\n",
       " Row([Div(children=[Div([Span('Tiny little turds sitting there on the table.')])], className='speaker-01')]),\n",
       " Row(children=[Col(children=[B(['SPEAKER_02:'])], className='text-start text-bf', width=6), Col(children=['00:04:13'], className='text-end text-secondary', width=6)], className='mt-2'),\n",
       " Row([Div(children=[Div([Span(\"Yeah, that is also possible. But yes, he's also known as Mencius Moldbug. So he used to go by that nom de guerre before he de-anonymized. So there we have him. He is the dark enlightenment. Neo-reactionary master, he is Curtis Jarvin. If you want to hear our detailed thoughts on him, please view the full decoding episode, which is audio only. So that's, you have to look up a podcast to hear that. But today, Matt, Let's put them into the grommeter and we, by tradition, start with Galaxy Brainedness. Tendency to voice confident opinions about a constellation of ideas. There is no topic that is out of their Bollywick, as we like to say. Where would you put Curtis on Galaxy Brainedness? One to five.\")])], className='speaker-02')]),\n",
       " Row(children=[Col(children=[B(['SPEAKER_01:'])], className='text-start text-bf', width=6), Col(children=['00:05:11'], className='text-end text-secondary', width=6)], className='mt-2'),\n",
       " Row([Div(children=[Div([Span(\"I'd give him either a four or a five. Maybe I could give him a little bit less of the maximum. But what do you think? I mean, he roams around. It's history and political stuff and art and philosophy and science. It's everything, isn't it? Yeah. He roams around. I'm going to give him a five.\")])], className='speaker-01')]),\n",
       " Row(children=[Col(children=[B(['SPEAKER_02:'])], className='text-start text-bf', width=6), Col(children=['00:05:31'], className='text-end text-secondary', width=6)], className='mt-2'),\n",
       " Row([Div(children=[Div([Span(\"I'm going to give him a five. Yeah, there he is. Like, is there any topic that you can imagine him being asked about and saying, I don't know much about that. Like, no, there's nothing that he cannot put his intellect to. So what do we have next, Matt? What is the next factor?\")])], className='speaker-02')]),\n",
       " Row(children=[Col(children=[B(['SPEAKER_01:'])], className='text-start text-bf', width=6), Col(children=['00:05:50'], className='text-end text-secondary', width=6)], className='mt-2'),\n",
       " Row([Div(children=[Div([Span(\"We've got cultishness, yeah, the sort of grooming your audience and sort of the subtle ways of enacting control in various ways. It could be through flattery even, it doesn't have to be sort of negatively balanced, but it's a thing, cultishness. Other people have talked about it. What do you think, Chris? Would you say that he's a cultish figure? Does he do the things a cult leader does to any extent?\")])], className='speaker-01')]),\n",
       " Row(children=[Col(children=[B(['SPEAKER_02:'])], className='text-start text-bf', width=6), Col(children=['00:06:17'], className='text-end text-secondary', width=6)], className='mt-2'),\n",
       " Row([Div(children=[Div([Span(\"Yeah, I think he does. And he strongly encourages in-group and out-group dynamics. But also, the major way that I see him do it is by these kind of compliments that he delivers about how the people that are following along are, you know, they're, they're hierarchical people, Matt, they're the kind of people that don't, you know, look for simple solutions, they're the people willing to think about things be a bit more edgy than others. So like, a lot of his stuff has this, like flattering undertone to the audience that like, if you're keeping up you're appreciating how radical his ideas are that you you're like one of the high intellect people if you see him as you know a kind of bog-standard reactionary figure that's the kind of take that somebody that doesn't really appreciate the profundity of his ideas have now maybe because of his character he's like not as good at cultivating the parasocial attachments as some of the other people in this space. That's the part that I think is true, that he is a little bit introverted and geeky, right? Too much to get the same level of obsessive fan as some of the other figures that we've covered. He's not a Jordan Peterson person, right? He's not very charismatic and in, in person. But yeah, so I would say he's high on this, but he's not particularly, like gifted in the in some aspects of it. So I give him four.\")])], className='speaker-02')]),\n",
       " Row(children=[Col(children=[B(['SPEAKER_01:'])], className='text-start text-bf', width=6), Col(children=['00:08:00'], className='text-end text-secondary', width=6)], className='mt-2'),\n",
       " Row([Div(children=[Div([Span(\"Yeah, I agree with that. He definitely is the flattery thing. I think it's probably just because he is like his audience. They're like teenage boys with a chip on their shoulder. Yeah. But I can't think of many other ways in which he's obviously manipulative. It could just be that I didn't see his tricks, didn't see enough of his spiel to notice the tricks. So I think I'll give him a three.\")])], className='speaker-01')]),\n",
       " Row(children=[Col(children=[B(['SPEAKER_02:'])], className='text-start text-bf', width=6), Col(children=['00:08:25'], className='text-end text-secondary', width=6)], className='mt-2'),\n",
       " Row([Div(children=[Div([Span('Okay.')])], className='speaker-02')]),\n",
       " Row(children=[Col(children=[B(['SPEAKER_01:'])], className='text-start text-bf', width=6), Col(children=['00:08:26'], className='text-end text-secondary', width=6)], className='mt-2'),\n",
       " Row([Div(children=[Div([Span(\"I'll give him the benefit of the doubt, even though he definitely doesn't deserve it.\")])], className='speaker-01')]),\n",
       " Row(children=[Col(children=[B(['SPEAKER_02:'])], className='text-start text-bf', width=6), Col(children=['00:08:32'], className='text-end text-secondary', width=6)], className='mt-2'),\n",
       " Row([Div(children=[Div([Span(\"The next factor is anti-establishmentarianism. This is not just being critical of the establishment. It is, in fact, taking a contrarian anti-establishment stance on every issue. The institutions, the establishment, they're all lying all of the time. None of them can be trusted.\")])], className='speaker-02')]),\n",
       " Row(children=[Col(children=[B(['SPEAKER_01:'])], className='text-start text-bf', width=6), Col(children=['00:08:51'], className='text-end text-secondary', width=6)], className='mt-2'),\n",
       " Row([Div(children=[Div([Span(\"What they taught you at school, it's just a thin veneer over the deep nature of reality. Yeah, he does this in spirits. He does this incredibly. He's just a five on this, without a doubt. This is his whole shtick and why he's appealing to those immature men, mainly, who think they're a lot smarter than they are. Anyway, do we need to talk about that more, Chris? Are we happy with our fives?\")])], className='speaker-01')]),\n",
       " Row(children=[Col(children=[B(['SPEAKER_02:'])], className='text-start text-bf', width=6), Col(children=['00:09:18'], className='text-end text-secondary', width=6)], className='mt-2'),\n",
       " Row([Div(children=[Div([Span(\"No, I mean, the only other thing I would say is that he likes to present fairly bog standard contrarianism and conspiratorial reasoning as if it's deliciously devious and a little bit out there for people to consider. But it's very conventional within those spaces, the kind of things that he believes. He just likes to add flavor. But yeah, so there's that, but that's just me commenting on him being a dickhead.\")])], className='speaker-02')]),\n",
       " Row(children=[Col(children=[B(['SPEAKER_01:'])], className='text-start text-bf', width=6), Col(children=['00:09:49'], className='text-end text-secondary', width=6)], className='mt-2'),\n",
       " Row([Div(children=[Div([Span(\"Yeah, not nearly as dark and dangerous as he would like to think he is. Okay, so the next one, Chris, is grievance mongering, litigating tales of woe. I remember we ended up arguing about this, we ended up identifying three sub-facets of this. There was the grievance... Oh, if you have enemies... Yeah, you've got enemies, personal enemies, the sort of person that's seen lots of enemies everywhere, having a personal tale of grievance, yeah, in your life you've been held back or whatever, but also inculcating a sense of grievance as part of your appeal, part of your shtick. So, what do you think about this one, Chris?\")])], className='speaker-01')]),\n",
       " Row(children=[Col(children=[B(['SPEAKER_02:'])], className='text-start text-bf', width=6), Col(children=['00:10:31'], className='text-end text-secondary', width=6)], className='mt-2'),\n",
       " Row([Div(children=[Div([Span(\"Yeah, I don't know enough about him to know if he has the list of enemies. I suspect that he would from his personality. But I didn't hear that in the content that we covered. And he did give the presentation that he he saw through whatever everybody else was taking for standard and that people like him might be dismissed by, you know, but that kind of is captured by the anti-establishmentarianism. But he definitely inculcates a feeling of grievance in his audience that they're being lied to and that they you know, they're not being given proper options or this kind of thing. So, yeah, I suspect he's higher in this than I will give him because I'm going to give him free. But that that's partly based on just my like the content that we've looked at and that while I suspect he does that, I don't I didn't see him do it in the things that I've looked at.\")])], className='speaker-02')]),\n",
       " Row(children=[Col(children=[B(['SPEAKER_01:'])], className='text-start text-bf', width=6), Col(children=['00:11:35'], className='text-end text-secondary', width=6)], className='mt-2'),\n",
       " Row([Div(children=[Div([Span(\"Yeah, like in what I saw of him, he's always had this incredibly smug and kind of relaxed attitude. He's not like Jordan Peterson whipping himself up into a frenzy of anger. I've always seen him pretty laid back. But I think The narrative that he is pushing is one in which everything is not as it seems. It's all a bit of a trick. All of these structures in that society are run by corrupt people who want to hold you down. He shares a lot in common. I think it would be a mistake to think of him as principally a conspiracy theorist, but it's interesting. I think a lot of the appeal to his shtick has a lot of the same elements of why people find conspiracy theories appealing. He does endorse some conspiracy theories. We'll get to that. We'll get to that. So look, I'll give him a three just because he dinged that one aspect of it, but not so much the other two. So we're in accord.\")])], className='speaker-01')]),\n",
       " Row(children=[Col(children=[B(['SPEAKER_02:'])], className='text-start text-bf', width=6), Col(children=['00:12:43'], className='text-end text-secondary', width=6)], className='mt-2'),\n",
       " Row([Div(children=[Div([Span(\"I am in accord. Now, the next one is self-aggrandizement and narcissism, and that's five. There's some people that we cover where it's just like, what is there to say? That's another of his primary characteristics is how self-satisfied and how much he regards himself as a huge IQ individual, right? So, yeah.\")])], className='speaker-02')]),\n",
       " Row(children=[Col(children=[B(['SPEAKER_01:'])], className='text-start text-bf', width=6), Col(children=['00:13:09'], className='text-end text-secondary', width=6)], className='mt-2'),\n",
       " Row([Div(children=[Div([Span(\"Yeah, it's incredibly funny just given how trivial and silly his ideas are. Anyway, let's not keep it above the belt.\")])], className='speaker-01')]),\n",
       " Row(children=[Col(children=[B(['SPEAKER_00:'])], className='text-start text-bf', width=6), Col(children=['00:13:21'], className='text-end text-secondary', width=6)], className='mt-2'),\n",
       " Row([Div(children=[Div([Span(\"I didn't say it.\")])], className='speaker-00')]),\n",
       " Row(children=[Col(children=[B(['SPEAKER_01:'])], className='text-start text-bf', width=6), Col(children=['00:13:23'], className='text-end text-secondary', width=6)], className='mt-2'),\n",
       " Row([Div(children=[Div([Span(\"No, I'm talking to myself. It's me. But yes, I think he's just incredibly vain. So five for self-aggrandizement. Chris, the next one is Cassandra Complex, where you're warning of the impending doom. You're the one that can see what's going on, and this is part of your appeal to people. Yeah, there's an emergency. There's a call to action. Curtis, you haven't got that going on?\")])], className='speaker-01')]),\n",
       " Row(children=[Col(children=[B(['SPEAKER_02:'])], className='text-start text-bf', width=6), Col(children=['00:13:47'], className='text-end text-secondary', width=6)], className='mt-2'),\n",
       " Row([Div(children=[Div([Span(\"Whenever this category comes up, I always remember that we had it as a category. And then Jordan Peterson was like, I'm like a Cassandra. That's making it too easy. And in his case, he was like, but Cassandra was doomed not to be listened to. But actually people listen to me, but I'm still like Cassandra without any of the the issues that she had to deal with, so yeah.\")])], className='speaker-02')]),\n",
       " Row(children=[Col(children=[B(['SPEAKER_01:'])], className='text-start text-bf', width=6), Col(children=['00:14:16'], className='text-end text-secondary', width=6)], className='mt-2'),\n",
       " Row([Div(children=[Div([Span(\"Like I said, you're a bit better.\")])], className='speaker-01')]),\n",
       " Row(children=[Col(children=[B(['SPEAKER_02:'])], className='text-start text-bf', width=6), Col(children=['00:14:18'], className='text-end text-secondary', width=6)], className='mt-2'),\n",
       " Row([Div(children=[Div([Span(\"Yeah, and I feel Curtis Jarvin is a little bit like that. So again, he is heated. He is rated highly by JD Vance, by Peter Thiel, by folks that are influential within the neo reactionary right wing. So he doesn't suffer from the curse of Cassandra to not be heated, but he definitely views himself as like a visionary ahead of the curve, spotting where things are going and that kind of thing. So I, I still would say he's not at the tippy top. He's not at the Michael O'Fallon level of that. So I'm going to give him four, but he's, he's definitely up there.\")])], className='speaker-02')]),\n",
       " Row(children=[Col(children=[B(['SPEAKER_01:'])], className='text-start text-bf', width=6), Col(children=['00:14:59'], className='text-end text-secondary', width=6)], className='mt-2'),\n",
       " Row([Div(children=[Div([Span(\"Yeah, yeah, yeah. I mean, I don't know, he always seems so complacent. He's describing all these conspiracies and these alternative histories and this quite ridiculous political views and this whole different alternative understanding of history and philosophy and politics, but he seems pretty laid back about it, you know?\")])], className='speaker-01')]),\n",
       " Row(children=[Col(children=[B(['SPEAKER_02:'])], className='text-start text-bf', width=6), Col(children=['00:15:21'], className='text-end text-secondary', width=6)], className='mt-2'),\n",
       " Row([Div(children=[Div([Span(\"Well, that is true. He isn't like, yeah, again, he's not like panicking about it. He seems to be quite confident that basically his philosophy will win out. But even then, at times it's like he seems to not really care if it doesn't win and society is destroyed. He just likes to know that he understands these things better than other people. So yeah, there is. I'm going to knock him down to 3.5 because of that.\")])], className='speaker-02')]),\n",
       " Row(children=[Col(children=[B(['SPEAKER_01:'])], className='text-start text-bf', width=6), Col(children=['00:15:54'], className='text-end text-secondary', width=6)], className='mt-2'),\n",
       " Row([Div(children=[Div([Span(\"Yeah, because he's almost like the perfect armchair commentator. You know what I mean? He's got an opinion on everything. He knows exactly what is the right thing to do, having a monarchy and things like that, but isn't really fussed about making it happen. So I'm going to give him... But you know, I mean, I'll give it to you just because most of the stuff he's talking about is pretty radical. He's having a pretty radical change to the current situation.\")])], className='speaker-01')]),\n",
       " Row(children=[Col(children=[B(['SPEAKER_00:'])], className='text-start text-bf', width=6), Col(children=['00:16:23'], className='text-end text-secondary', width=6)], className='mt-2'),\n",
       " Row([Div(children=[Div([Span(\"If you'd like to continue listening to this conversation, you'll need to subscribe at patreon.com slash DecodingTheGurus. Once you do, you'll get access to full-length episodes of the Decoding the Gurus podcast, including bonus shows, Gurometer episodes, and Decoding Academia. The Decoding the Gurus podcast is ad-free and relies entirely on listener support. Subscribing will save the rainforest, bring about global peace, and save Western civilization. And if you cannot afford $2, you can request a free membership, and we will honor zero of those requests. So subscribe now at patreon.com slash decoding the gurus.\")])], className='speaker-00')])]"
      ]
     },
     "execution_count": 5,
     "metadata": {},
     "output_type": "execute_result"
    }
   ],
   "source": [
    "transcript.to_html(diarized=True)"
   ]
  }
 ],
 "metadata": {
  "kernelspec": {
   "display_name": ".venv",
   "language": "python",
   "name": "python3"
  },
  "language_info": {
   "codemirror_mode": {
    "name": "ipython",
    "version": 3
   },
   "file_extension": ".py",
   "mimetype": "text/x-python",
   "name": "python",
   "nbconvert_exporter": "python",
   "pygments_lexer": "ipython3",
   "version": "3.12.3"
  }
 },
 "nbformat": 4,
 "nbformat_minor": 2
}
