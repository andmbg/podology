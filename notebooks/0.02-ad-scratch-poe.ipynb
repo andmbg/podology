{
 "cells": [
  {
   "cell_type": "code",
   "execution_count": 55,
   "metadata": {},
   "outputs": [],
   "source": [
    "import os\n",
    "import re\n",
    "import uuid\n",
    "import json\n",
    "from pathlib import Path\n",
    "from dotenv import load_dotenv, find_dotenv\n",
    "from bs4 import BeautifulSoup\n",
    "from typing import List\n",
    "\n",
    "basedir = Path().cwd().parent\n",
    "srcfile = basedir / \"data\" / \"raw\" / \"poe.html\"\n",
    "tgtdir = basedir / \"data\" / \"interim\""
   ]
  },
  {
   "cell_type": "code",
   "execution_count": 59,
   "metadata": {},
   "outputs": [],
   "source": [
    "with open(srcfile, \"r\") as f:\n",
    "    soup = BeautifulSoup(f)\n",
    "\n",
    "def split_sentences(text: str) -> List[str]:\n",
    "    \"\"\"Split text into sentences.\"\"\"\n",
    "    return re.split(r\"(?<!\\w\\.\\w.)(?<![A-Z][a-z]\\.)(?<![\\w\\s][A-Z]\\.)(?<=\\.|\\?|\\!)\\s\", text)\n",
    "\n",
    "segments = []\n",
    "\n",
    "for c, chapter in enumerate(soup.find_all(name=\"div\", class_=\"chapter\")):\n",
    "    title = chapter.h2.text\n",
    "    title = re.sub(r\"\\n\", \" \", title)\n",
    "\n",
    "    paras = (chapter.find_all(name=\"p\"))\n",
    "    \n",
    "    for p, para in enumerate(paras):\n",
    "        text = para.text\n",
    "        text = re.sub(r\"\\n\", \" \", text)\n",
    "        text = re.sub(r\"\\xa0\", \" \", text)\n",
    "        sentences = split_sentences(text)\n",
    "\n",
    "        for s, sentence in enumerate(sentences):\n",
    "            sentence = re.sub(r\" +\", \" \", sentence)\n",
    "            sentence = re.sub(r\"^\\s+\", \"\", sentence)\n",
    "            segment = {\n",
    "                \"id\": f\"utterance_{str(uuid.uuid4())[:8]}\",\n",
    "                \"text\": sentence,\n",
    "                \"title\": title,\n",
    "                \"chapter\": c + 1,\n",
    "                \"paragraph\": p + 1,\n",
    "                \"sentence\": s +1,\n",
    "            }\n",
    "            segments.append(segment)\n",
    "\n",
    "with open(tgtdir / \"poe.json\", \"w\") as f:\n",
    "    json.dump(segments, f, indent=2, ensure_ascii=False)"
   ]
  }
 ],
 "metadata": {
  "kernelspec": {
   "display_name": ".venv",
   "language": "python",
   "name": "python3"
  },
  "language_info": {
   "codemirror_mode": {
    "name": "ipython",
    "version": 3
   },
   "file_extension": ".py",
   "mimetype": "text/x-python",
   "name": "python",
   "nbconvert_exporter": "python",
   "pygments_lexer": "ipython3",
   "version": "3.12.5"
  }
 },
 "nbformat": 4,
 "nbformat_minor": 2
}
