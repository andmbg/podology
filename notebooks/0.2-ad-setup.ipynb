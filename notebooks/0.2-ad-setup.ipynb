{
 "cells": [
  {
   "cell_type": "code",
   "execution_count": null,
   "id": "initial_id",
   "metadata": {
    "ExecuteTime": {
     "end_time": "2025-03-28T09:05:37.961756Z",
     "start_time": "2025-03-28T09:05:37.913397Z"
    }
   },
   "outputs": [],
   "source": [
    "from pathlib import Path\n",
    "import os\n",
    "\n",
    "# set cwd one level up:\n",
    "os.chdir(Path.cwd().parent)\n",
    "from kfsearch.data.models import EpisodeStore, Episode\n",
    "from kfsearch.data.connectors.rss import RSSConnector"
   ]
  },
  {
   "cell_type": "code",
   "execution_count": null,
   "id": "91b6e6be3b93ce5d",
   "metadata": {
    "ExecuteTime": {
     "end_time": "2025-03-28T09:05:37.968721Z",
     "start_time": "2025-03-28T09:05:37.966232Z"
    }
   },
   "outputs": [],
   "source": [
    "store = EpisodeStore(name=\"Decoding\")"
   ]
  },
  {
   "cell_type": "code",
   "execution_count": null,
   "id": "ff7287e8e6c55105",
   "metadata": {
    "ExecuteTime": {
     "end_time": "2025-03-28T09:05:38.056745Z",
     "start_time": "2025-03-28T09:05:38.054962Z"
    }
   },
   "outputs": [],
   "source": [
    "conn = RSSConnector(\n",
    "    store=store,\n",
    "    rss_link=\"https://decoding-the-gurus.captivate.fm/rssfeed\",\n",
    ")"
   ]
  },
  {
   "cell_type": "code",
   "execution_count": null,
   "id": "8692fcbf2ee04ffd",
   "metadata": {
    "ExecuteTime": {
     "end_time": "2025-03-28T09:05:39.642200Z",
     "start_time": "2025-03-28T09:05:38.098450Z"
    }
   },
   "outputs": [],
   "source": [
    "conn.populate_store()"
   ]
  },
  {
   "cell_type": "code",
   "execution_count": null,
   "id": "9c1ca7df62a8eb39",
   "metadata": {
    "ExecuteTime": {
     "end_time": "2025-03-28T09:07:38.017865Z",
     "start_time": "2025-03-28T09:07:38.009675Z"
    }
   },
   "outputs": [],
   "source": [
    "store.to_json()"
   ]
  },
  {
   "cell_type": "code",
   "execution_count": null,
   "id": "9aca81fb0e01248c",
   "metadata": {
    "ExecuteTime": {
     "end_time": "2025-03-28T09:36:46.618490Z",
     "start_time": "2025-03-28T09:36:46.614383Z"
    }
   },
   "outputs": [],
   "source": [
    "episode = store.episodes()[1]\n",
    "episode.audio_url"
   ]
  }
 ],
 "metadata": {
  "kernelspec": {
   "display_name": "Python 3",
   "language": "python",
   "name": "python3"
  },
  "language_info": {
   "codemirror_mode": {
    "name": "ipython",
    "version": 2
   },
   "file_extension": ".py",
   "mimetype": "text/x-python",
   "name": "python",
   "nbconvert_exporter": "python",
   "pygments_lexer": "ipython2",
   "version": "2.7.6"
  }
 },
 "nbformat": 4,
 "nbformat_minor": 5
}
