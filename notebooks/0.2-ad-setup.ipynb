{
 "cells": [
  {
   "cell_type": "code",
   "execution_count": null,
   "id": "initial_id",
   "metadata": {},
   "outputs": [],
   "source": [
    "from pathlib import Path\n",
    "import os\n",
    "\n",
    "# set cwd one level up:\n",
    "os.chdir(Path.cwd().parent)\n",
    "from kfsearch.data.models import EpisodeStore\n",
    "from config import PROJECT_NAME, CONNECTOR, TRANSCRIBER, LANGUAGE"
   ]
  },
  {
   "cell_type": "code",
   "execution_count": null,
   "id": "91b6e6be3b93ce5d",
   "metadata": {},
   "outputs": [],
   "source": [
    "store = EpisodeStore(name=PROJECT_NAME)"
   ]
  },
  {
   "cell_type": "code",
   "execution_count": null,
   "id": "ceb5b79ec35afe18",
   "metadata": {},
   "outputs": [],
   "source": [
    "store.episodes()[0].pub_date"
   ]
  },
  {
   "cell_type": "code",
   "execution_count": null,
   "id": "96906352d598ce20",
   "metadata": {},
   "outputs": [],
   "source": [
    "store.set_connector(CONNECTOR)\n",
    "store.set_transcriber(TRANSCRIBER)\n",
    "store.populate()\n",
    "store.to_json()"
   ]
  }
 ],
 "metadata": {
  "kernelspec": {
   "display_name": "Python 3",
   "language": "python",
   "name": "python3"
  },
  "language_info": {
   "codemirror_mode": {
    "name": "ipython",
    "version": 2
   },
   "file_extension": ".py",
   "mimetype": "text/x-python",
   "name": "python",
   "nbconvert_exporter": "python",
   "pygments_lexer": "ipython2",
   "version": "2.7.6"
  }
 },
 "nbformat": 4,
 "nbformat_minor": 5
}
