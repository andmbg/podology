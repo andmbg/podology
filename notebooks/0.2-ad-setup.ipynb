{
 "cells": [
  {
   "cell_type": "code",
   "execution_count": null,
   "id": "initial_id",
   "metadata": {},
   "outputs": [],
   "source": [
    "from pathlib import Path\n",
    "import os\n",
    "\n",
    "# set cwd one level up:\n",
    "os.chdir(Path.cwd().parent)\n",
    "from kfsearch.data.models import EpisodeStore\n",
    "from config import PROJECT_NAME, CONNECTOR, TRANSCRIBER, LANGUAGE"
   ]
  },
  {
   "cell_type": "code",
   "execution_count": null,
   "id": "91b6e6be3b93ce5d",
   "metadata": {
    "ExecuteTime": {
     "end_time": "2025-03-28T18:30:29.322744Z",
     "start_time": "2025-03-28T18:30:29.295049Z"
    }
   },
   "outputs": [],
   "source": [
    "store = EpisodeStore(name=\"Knowledge Fight\")"
   ]
  },
  {
   "cell_type": "code",
   "execution_count": null,
   "id": "ceb5b79ec35afe18",
   "metadata": {
    "ExecuteTime": {
     "end_time": "2025-03-28T18:31:42.275688Z",
     "start_time": "2025-03-28T18:31:42.271934Z"
    }
   },
   "outputs": [],
   "source": [
    "x = store.episodes(script=True)"
   ]
  },
  {
   "cell_type": "code",
   "execution_count": null,
   "id": "96906352d598ce20",
   "metadata": {},
   "outputs": [],
   "source": [
    "store.set_connector(CONNECTOR)\n",
    "store.set_transcriber(TRANSCRIBER)\n",
    "store.populate()\n",
    "store.to_json()"
   ]
  }
 ],
 "metadata": {
  "kernelspec": {
   "display_name": "Python 3",
   "language": "python",
   "name": "python3"
  },
  "language_info": {
   "codemirror_mode": {
    "name": "ipython",
    "version": 2
   },
   "file_extension": ".py",
   "mimetype": "text/x-python",
   "name": "python",
   "nbconvert_exporter": "python",
   "pygments_lexer": "ipython2",
   "version": "2.7.6"
  }
 },
 "nbformat": 4,
 "nbformat_minor": 5
}
