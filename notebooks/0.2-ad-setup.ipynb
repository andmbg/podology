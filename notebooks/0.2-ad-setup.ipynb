{
 "cells": [
  {
   "cell_type": "code",
   "execution_count": null,
   "id": "initial_id",
   "metadata": {
    "ExecuteTime": {
     "end_time": "2025-03-28T15:13:30.509931Z",
     "start_time": "2025-03-28T15:13:30.458767Z"
    }
   },
   "outputs": [],
   "source": [
    "from pathlib import Path\n",
    "import os\n",
    "\n",
    "# set cwd one level up:\n",
    "os.chdir(Path.cwd().parent)\n",
    "from kfsearch.data.models import EpisodeStore, Episode\n",
    "from kfsearch.data.connectors.rss import RSSConnector\n",
    "from kfsearch.data.transcribers.lemonfox import LemonfoxTranscriber\n",
    "import config"
   ]
  },
  {
   "cell_type": "code",
   "execution_count": null,
   "id": "91b6e6be3b93ce5d",
   "metadata": {
    "ExecuteTime": {
     "end_time": "2025-03-28T15:13:30.518167Z",
     "start_time": "2025-03-28T15:13:30.513552Z"
    }
   },
   "outputs": [],
   "source": [
    "store = EpisodeStore(name=\"Decoding\")\n",
    "store"
   ]
  },
  {
   "cell_type": "code",
   "execution_count": null,
   "id": "ff7287e8e6c55105",
   "metadata": {
    "ExecuteTime": {
     "end_time": "2025-03-28T15:13:30.607491Z",
     "start_time": "2025-03-28T15:13:30.605808Z"
    }
   },
   "outputs": [],
   "source": [
    "conn = RSSConnector(\n",
    "    resource=\"https://decoding-the-gurus.captivate.fm/rssfeed\",\n",
    ")"
   ]
  },
  {
   "cell_type": "code",
   "execution_count": null,
   "id": "9591fbdecc76310f",
   "metadata": {
    "ExecuteTime": {
     "end_time": "2025-03-28T15:13:30.654773Z",
     "start_time": "2025-03-28T15:13:30.653371Z"
    }
   },
   "outputs": [],
   "source": [
    "trsc = LemonfoxTranscriber()"
   ]
  },
  {
   "cell_type": "code",
   "execution_count": null,
   "id": "8692fcbf2ee04ffd",
   "metadata": {
    "ExecuteTime": {
     "end_time": "2025-03-28T15:13:32.280748Z",
     "start_time": "2025-03-28T15:13:30.697305Z"
    }
   },
   "outputs": [],
   "source": [
    "store.set_connector(conn)\n",
    "store.set_transcriber(trsc)\n",
    "store.connector.populate_store()"
   ]
  },
  {
   "cell_type": "code",
   "execution_count": null,
   "id": "2a5287ea6a227ed9",
   "metadata": {
    "ExecuteTime": {
     "end_time": "2025-03-28T15:13:32.288321Z",
     "start_time": "2025-03-28T15:13:32.285993Z"
    }
   },
   "outputs": [],
   "source": [
    "d = [ep.duration for ep in store.episodes()]\n",
    "d2 = [i for i in d if len(i) < 6]\n",
    "d2.sort()\n",
    "\n",
    "episode = [ep for ep in store.episodes() if ep.duration == d2[0]][0]"
   ]
  },
  {
   "cell_type": "code",
   "execution_count": null,
   "id": "9182a3e5541d7298",
   "metadata": {
    "ExecuteTime": {
     "end_time": "2025-03-28T15:13:32.333117Z",
     "start_time": "2025-03-28T15:13:32.330262Z"
    }
   },
   "outputs": [],
   "source": [
    "episode.transcribe()"
   ]
  }
 ],
 "metadata": {
  "kernelspec": {
   "display_name": "Python 3",
   "language": "python",
   "name": "python3"
  },
  "language_info": {
   "codemirror_mode": {
    "name": "ipython",
    "version": 2
   },
   "file_extension": ".py",
   "mimetype": "text/x-python",
   "name": "python",
   "nbconvert_exporter": "python",
   "pygments_lexer": "ipython2",
   "version": "2.7.6"
  }
 },
 "nbformat": 4,
 "nbformat_minor": 5
}
