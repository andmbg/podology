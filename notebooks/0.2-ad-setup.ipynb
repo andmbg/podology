{
 "cells": [
  {
   "cell_type": "code",
   "execution_count": null,
   "id": "initial_id",
   "metadata": {
    "ExecuteTime": {
     "end_time": "2025-03-28T14:21:25.373520Z",
     "start_time": "2025-03-28T14:21:25.323452Z"
    }
   },
   "outputs": [],
   "source": [
    "from pathlib import Path\n",
    "import os\n",
    "\n",
    "# set cwd one level up:\n",
    "os.chdir(Path.cwd().parent)\n",
    "from kfsearch.data.models import EpisodeStore, Episode\n",
    "from kfsearch.data.connectors.rss import RSSConnector\n",
    "from kfsearch.data.transcribers.lemonfox import LemonfoxTranscriber"
   ]
  },
  {
   "cell_type": "code",
   "execution_count": null,
   "id": "91b6e6be3b93ce5d",
   "metadata": {
    "ExecuteTime": {
     "end_time": "2025-03-28T14:21:25.386993Z",
     "start_time": "2025-03-28T14:21:25.377707Z"
    }
   },
   "outputs": [],
   "source": [
    "store = EpisodeStore(name=\"Decoding\")\n",
    "store"
   ]
  },
  {
   "cell_type": "code",
   "execution_count": null,
   "id": "ff7287e8e6c55105",
   "metadata": {
    "ExecuteTime": {
     "end_time": "2025-03-28T14:21:25.486820Z",
     "start_time": "2025-03-28T14:21:25.485056Z"
    }
   },
   "outputs": [],
   "source": [
    "conn = RSSConnector(\n",
    "    resource=\"https://decoding-the-gurus.captivate.fm/rssfeed\",\n",
    ")\n",
    "conn"
   ]
  },
  {
   "cell_type": "code",
   "execution_count": null,
   "id": "9591fbdecc76310f",
   "metadata": {
    "ExecuteTime": {
     "end_time": "2025-03-28T14:21:46.449522Z",
     "start_time": "2025-03-28T14:21:46.446458Z"
    }
   },
   "outputs": [],
   "source": [
    "trsc = LemonfoxTranscriber()\n",
    "trsc"
   ]
  },
  {
   "cell_type": "code",
   "execution_count": null,
   "id": "af2ccacff7dc410",
   "metadata": {
    "ExecuteTime": {
     "end_time": "2025-03-28T14:21:25.581503Z",
     "start_time": "2025-03-28T14:21:25.580374Z"
    }
   },
   "outputs": [],
   "source": []
  },
  {
   "cell_type": "code",
   "execution_count": null,
   "id": "8692fcbf2ee04ffd",
   "metadata": {
    "ExecuteTime": {
     "end_time": "2025-03-28T14:21:53.995234Z",
     "start_time": "2025-03-28T14:21:53.990528Z"
    }
   },
   "outputs": [],
   "source": [
    "store.set_connector(conn)\n",
    "store.set_transcriber(trsc)\n",
    "store"
   ]
  },
  {
   "cell_type": "code",
   "execution_count": null,
   "id": "dab3628df543d059",
   "metadata": {
    "ExecuteTime": {
     "end_time": "2025-03-28T14:21:59.043147Z",
     "start_time": "2025-03-28T14:21:59.040729Z"
    }
   },
   "outputs": [],
   "source": [
    "trsc"
   ]
  }
 ],
 "metadata": {
  "kernelspec": {
   "display_name": "Python 3",
   "language": "python",
   "name": "python3"
  },
  "language_info": {
   "codemirror_mode": {
    "name": "ipython",
    "version": 2
   },
   "file_extension": ".py",
   "mimetype": "text/x-python",
   "name": "python",
   "nbconvert_exporter": "python",
   "pygments_lexer": "ipython2",
   "version": "2.7.6"
  }
 },
 "nbformat": 4,
 "nbformat_minor": 5
}
