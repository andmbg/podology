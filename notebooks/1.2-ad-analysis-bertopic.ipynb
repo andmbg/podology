{
 "cells": [
  {
   "cell_type": "code",
   "execution_count": null,
   "id": "e813d5ba237e4f8c",
   "metadata": {
    "ExecuteTime": {
     "end_time": "2025-04-12T11:21:19.307941Z",
     "start_time": "2025-04-12T11:21:19.071767Z"
    }
   },
   "outputs": [],
   "source": [
    "%load_ext autoreload\n",
    "%autoreload 2\n",
    "\n",
    "import os\n",
    "\n",
    "os.chdir(\"..\")\n",
    "\n",
    "from kfsearch.data.models import EpisodeStore, DiarizedTranscript\n",
    "from config import PROJECT_NAME, CONNECTOR, TRANSCRIBER"
   ]
  },
  {
   "cell_type": "code",
   "execution_count": null,
   "id": "b76aef007ac55ae0",
   "metadata": {
    "ExecuteTime": {
     "end_time": "2025-04-12T11:21:20.168237Z",
     "start_time": "2025-04-12T11:21:19.312090Z"
    }
   },
   "outputs": [],
   "source": [
    "episode_store = EpisodeStore(name=PROJECT_NAME)\n",
    "episode_store.set_connector(CONNECTOR)\n",
    "episode_store.set_transcriber(TRANSCRIBER)\n",
    "episode_store.populate()"
   ]
  },
  {
   "cell_type": "code",
   "execution_count": null,
   "id": "fcec9a6122c78ce5",
   "metadata": {
    "ExecuteTime": {
     "end_time": "2025-04-12T11:21:20.286082Z",
     "start_time": "2025-04-12T11:21:20.256908Z"
    }
   },
   "outputs": [],
   "source": [
    "d = DiarizedTranscript(\"1xCz7\", episode_store)"
   ]
  },
  {
   "cell_type": "code",
   "execution_count": null,
   "id": "862e93cf84e471df",
   "metadata": {
    "ExecuteTime": {
     "end_time": "2025-04-12T11:21:20.334630Z",
     "start_time": "2025-04-12T11:21:20.300677Z"
    }
   },
   "outputs": [],
   "source": [
    "d.diarized_script"
   ]
  },
  {
   "cell_type": "code",
   "execution_count": null,
   "id": "c8a70a55d42aae85",
   "metadata": {
    "ExecuteTime": {
     "end_time": "2025-04-12T11:23:11.498215Z",
     "start_time": "2025-04-12T11:23:11.366200Z"
    }
   },
   "outputs": [],
   "source": []
  }
 ],
 "metadata": {
  "kernelspec": {
   "display_name": "Python 3",
   "language": "python",
   "name": "python3"
  },
  "language_info": {
   "codemirror_mode": {
    "name": "ipython",
    "version": 2
   },
   "file_extension": ".py",
   "mimetype": "text/x-python",
   "name": "python",
   "nbconvert_exporter": "python",
   "pygments_lexer": "ipython2",
   "version": "2.7.6"
  }
 },
 "nbformat": 4,
 "nbformat_minor": 5
}
