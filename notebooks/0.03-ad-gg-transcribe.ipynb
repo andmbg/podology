{
 "cells": [
  {
   "cell_type": "code",
   "execution_count": null,
   "metadata": {},
   "outputs": [],
   "source": [
    "from pathlib import Path\n",
    "from google.cloud import speech_v1 as speech\n",
    "import io\n",
    "import pickle"
   ]
  },
  {
   "cell_type": "code",
   "execution_count": null,
   "metadata": {},
   "outputs": [],
   "source": [
    "datadir = Path().cwd().parent / \"data\"\n",
    "audio_file_path = datadir / \"raw\" / \"sample.wav\""
   ]
  },
  {
   "cell_type": "code",
   "execution_count": null,
   "metadata": {},
   "outputs": [],
   "source": [
    "# Create a client\n",
    "client = speech.SpeechClient()\n",
    "\n",
    "# Read the audio file\n",
    "with io.open(audio_file_path, \"rb\") as audio_file:\n",
    "    content = audio_file.read()\n",
    "\n",
    "# Configure the audio settings\n",
    "audio = speech.RecognitionAudio(content=content)\n",
    "config = speech.RecognitionConfig(\n",
    "    language_code=\"en-US\",\n",
    ")"
   ]
  },
  {
   "cell_type": "code",
   "execution_count": null,
   "metadata": {},
   "outputs": [],
   "source": [
    "# Perform the transcription\n",
    "# response = client.recognize(config=config, audio=audio)\n",
    "with open(datadir / \"processed\" / \"transcription.pkl\", \"rb\") as f:\n",
    "    response = pickle.load(f)"
   ]
  },
  {
   "cell_type": "code",
   "execution_count": null,
   "metadata": {},
   "outputs": [],
   "source": [
    "# Print the transcription results\n",
    "# with open(datadir / \"processed\" / \"transcription.pkl\", \"wb\") as f:\n",
    "#     pickle.dump(response, f)\n",
    "\n",
    "print(response)"
   ]
  }
 ],
 "metadata": {
  "kernelspec": {
   "display_name": "Python (kfpoetry)",
   "language": "python",
   "name": "kfpoetry"
  },
  "language_info": {
   "codemirror_mode": {
    "name": "ipython",
    "version": 3
   },
   "file_extension": ".py",
   "mimetype": "text/x-python",
   "name": "python",
   "nbconvert_exporter": "python",
   "pygments_lexer": "ipython3",
   "version": "3.12.6"
  }
 },
 "nbformat": 4,
 "nbformat_minor": 4
}
